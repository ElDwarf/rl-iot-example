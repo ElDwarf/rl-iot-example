{
 "cells": [
  {
   "cell_type": "markdown",
   "metadata": {},
   "source": [
    "Train Agent to play Tic-Tac-Toe\n",
    "========================="
   ]
  },
  {
   "cell_type": "markdown",
   "metadata": {},
   "source": [
    "This notebook serves to train a DQN agent to play against another learning agent, in order to learn how to play the game and then it could be used to play against a human."
   ]
  },
  {
   "cell_type": "markdown",
   "metadata": {},
   "source": [
    "### Import dependencies"
   ]
  },
  {
   "cell_type": "code",
   "execution_count": 1,
   "metadata": {},
   "outputs": [
    {
     "name": "stderr",
     "output_type": "stream",
     "text": [
      "Using TensorFlow backend.\n"
     ]
    }
   ],
   "source": [
    "from tateti.agent.base import play_one\n",
    "from tateti.agent.dqn import DQNAgent\n",
    "from tateti.environment.tictactoe import Environment\n",
    "from tateti.util.plot import plot_moving_avg, plot\n",
    "\n",
    "import numpy as np\n",
    "import random\n",
    "\n",
    "import argparse"
   ]
  },
  {
   "cell_type": "markdown",
   "metadata": {},
   "source": [
    "### Create and configure environment to use for playing Tic-Tac-Toe"
   ]
  },
  {
   "cell_type": "code",
   "execution_count": 2,
   "metadata": {},
   "outputs": [
    {
     "name": "stdout",
     "output_type": "stream",
     "text": [
      "Using seed=123\n",
      "Environment created!\n"
     ]
    }
   ],
   "source": [
    "reward_function = \"standard\"  # Reward function to use on the environment\n",
    "seed = 123  # Define seed for random generators\n",
    "print(\"Using seed=%i\" % seed)  \n",
    "env = Environment(reward_function=reward_function, seed=seed)\n",
    "\n",
    "print(\"Environment created!\")"
   ]
  },
  {
   "cell_type": "markdown",
   "metadata": {},
   "source": [
    "### Create agents that are going to learn to play Tic-Tac-Toe"
   ]
  },
  {
   "cell_type": "code",
   "execution_count": 3,
   "metadata": {},
   "outputs": [
    {
     "name": "stdout",
     "output_type": "stream",
     "text": [
      "WARNING:tensorflow:From /home/leferrad/.local/lib/python3.6/site-packages/tensorflow/python/framework/op_def_library.py:263: colocate_with (from tensorflow.python.framework.ops) is deprecated and will be removed in a future version.\n",
      "Instructions for updating:\n",
      "Colocations handled automatically by placer.\n"
     ]
    }
   ],
   "source": [
    "# Path to filename for saving the best agent (and even load a saved agent as well)\n",
    "path_to_model = \"/data/tateti_model.pkl\"\n",
    "\n",
    "# Parameters of DQN agent\n",
    "gamma = 0.99  # Discount factor\n",
    "replay_mem = 1e3  # Max amount of sequences to store in experience replay memory\n",
    "batch_size = 10  # Number of sequences to sample from experience replay memory while applying it to agent\n",
    "phi_function = \"scaled\"  # Phi function to use for transforming states into a better representation for the agent\n",
    "# strategy_function: to deal with exploration-exploitation dilemma\n",
    "\n",
    "# TODO: not having deterministic results when strategy_function=\"boltzmann\"\n",
    "agent_x = (DQNAgent(env=env, gamma=gamma, phi_function=phi_function, strategy_function=\"egreedy\",\n",
    "                    memory_size=replay_mem, batch_size=batch_size)\n",
    "          #.load(path_to_model)  # Uncomment to load a previous saved agent\n",
    "          )\n",
    "\n",
    "agent_o = (DQNAgent(env=env, gamma=gamma, phi_function=phi_function, strategy_function=\"egreedy\",\n",
    "                    memory_size=replay_mem, batch_size=batch_size)\n",
    "          #.load(path_to_model)  # Uncomment to load a previous saved agent\n",
    "          )"
   ]
  },
  {
   "cell_type": "markdown",
   "metadata": {},
   "source": [
    "### Configure experiments to perform"
   ]
  },
  {
   "cell_type": "code",
   "execution_count": 4,
   "metadata": {},
   "outputs": [],
   "source": [
    "N = 200  # Number of episodes to run \n",
    "total_rewards = {Environment.SYMBOL_X: np.empty(N), Environment.SYMBOL_O: np.empty(N)}  # Total of reward obtained per agent"
   ]
  },
  {
   "cell_type": "markdown",
   "metadata": {},
   "source": [
    "### Start playing and learning!"
   ]
  },
  {
   "cell_type": "code",
   "execution_count": 5,
   "metadata": {},
   "outputs": [
    {
     "name": "stdout",
     "output_type": "stream",
     "text": [
      "WARNING:tensorflow:From /home/leferrad/.local/lib/python3.6/site-packages/tensorflow/python/ops/math_ops.py:3066: to_int32 (from tensorflow.python.ops.math_ops) is deprecated and will be removed in a future version.\n",
      "Instructions for updating:\n",
      "Use tf.cast instead.\n"
     ]
    },
    {
     "name": "stderr",
     "output_type": "stream",
     "text": [
      "2019-03-07 01:19:00,302 - tateti.agent.base - INFO - GAME OVER! Winner: None\n"
     ]
    },
    {
     "name": "stdout",
     "output_type": "stream",
     "text": [
      "Episode:0, avg reward (last 10): {'x': -22.0, 'o': -24.0}\n",
      "Current status of board:\n",
      "-------------\n",
      "| x | o | x |\n",
      "-------------\n",
      "| x | o | o |\n",
      "-------------\n",
      "| o | x | x |\n",
      "-------------\n",
      "Score board: {'x': 0, 'o': 0, ' ': 1}\n"
     ]
    },
    {
     "name": "stderr",
     "output_type": "stream",
     "text": [
      "2019-03-07 01:19:00,885 - tateti.agent.base - INFO - GAME OVER! Winner: o\n",
      "2019-03-07 01:19:01,056 - tateti.agent.base - INFO - GAME OVER! Winner: o\n",
      "2019-03-07 01:19:01,381 - tateti.agent.base - INFO - GAME OVER! Winner: o\n",
      "2019-03-07 01:19:01,731 - tateti.agent.base - INFO - GAME OVER! Winner: o\n",
      "2019-03-07 01:19:02,113 - tateti.agent.base - INFO - GAME OVER! Winner: None\n",
      "2019-03-07 01:19:02,293 - tateti.agent.base - INFO - GAME OVER! Winner: o\n",
      "2019-03-07 01:19:02,586 - tateti.agent.base - INFO - GAME OVER! Winner: o\n",
      "2019-03-07 01:19:02,892 - tateti.agent.base - INFO - GAME OVER! Winner: o\n",
      "2019-03-07 01:19:03,075 - tateti.agent.base - INFO - GAME OVER! Winner: x\n",
      "2019-03-07 01:19:03,569 - tateti.agent.base - INFO - GAME OVER! Winner: x\n",
      "2019-03-07 01:19:03,676 - tateti.agent.base - INFO - GAME OVER! Winner: o\n"
     ]
    },
    {
     "name": "stdout",
     "output_type": "stream",
     "text": [
      "Episode:10, avg reward (last 10): {'x': -7.0, 'o': -7.818181818181818}\n",
      "Current status of board:\n",
      "-------------\n",
      "| x | o | o |\n",
      "-------------\n",
      "| x | x | o |\n",
      "-------------\n",
      "| o | x | x |\n",
      "-------------\n",
      "Score board: {'x': 2, 'o': 7, ' ': 2}\n"
     ]
    },
    {
     "name": "stderr",
     "output_type": "stream",
     "text": [
      "2019-03-07 01:19:03,839 - tateti.agent.base - INFO - GAME OVER! Winner: x\n",
      "2019-03-07 01:19:04,029 - tateti.agent.base - INFO - GAME OVER! Winner: x\n",
      "2019-03-07 01:19:04,279 - tateti.agent.base - INFO - GAME OVER! Winner: x\n",
      "2019-03-07 01:19:04,851 - tateti.agent.base - INFO - GAME OVER! Winner: None\n",
      "2019-03-07 01:19:05,105 - tateti.agent.base - INFO - GAME OVER! Winner: o\n",
      "2019-03-07 01:19:05,400 - tateti.agent.base - INFO - GAME OVER! Winner: o\n",
      "2019-03-07 01:19:05,623 - tateti.agent.base - INFO - GAME OVER! Winner: x\n",
      "2019-03-07 01:19:05,997 - tateti.agent.base - INFO - GAME OVER! Winner: o\n",
      "2019-03-07 01:19:06,231 - tateti.agent.base - INFO - GAME OVER! Winner: o\n"
     ]
    },
    {
     "name": "stdout",
     "output_type": "stream",
     "text": [
      "Episode:20, avg reward (last 10): {'x': -4.0, 'o': -5.363636363636363}\n",
      "Current status of board:\n",
      "-------------\n",
      "| o | x | o |\n",
      "-------------\n",
      "| o | x | x |\n",
      "-------------\n",
      "| o |   | x |\n",
      "-------------\n",
      "Score board: {'x': 6, 'o': 12, ' ': 3}\n"
     ]
    },
    {
     "name": "stderr",
     "output_type": "stream",
     "text": [
      "2019-03-07 01:19:06,539 - tateti.agent.base - INFO - GAME OVER! Winner: None\n",
      "2019-03-07 01:19:06,996 - tateti.agent.base - INFO - GAME OVER! Winner: x\n",
      "2019-03-07 01:19:07,147 - tateti.agent.base - INFO - GAME OVER! Winner: x\n",
      "2019-03-07 01:19:07,398 - tateti.agent.base - INFO - GAME OVER! Winner: o\n",
      "2019-03-07 01:19:07,873 - tateti.agent.base - INFO - GAME OVER! Winner: o\n",
      "2019-03-07 01:19:08,125 - tateti.agent.base - INFO - GAME OVER! Winner: x\n",
      "2019-03-07 01:19:08,618 - tateti.agent.base - INFO - GAME OVER! Winner: o\n",
      "2019-03-07 01:19:09,231 - tateti.agent.base - INFO - GAME OVER! Winner: x\n",
      "2019-03-07 01:19:09,470 - tateti.agent.base - INFO - GAME OVER! Winner: x\n",
      "2019-03-07 01:19:09,736 - tateti.agent.base - INFO - GAME OVER! Winner: x\n"
     ]
    },
    {
     "name": "stdout",
     "output_type": "stream",
     "text": [
      "Episode:30, avg reward (last 10): {'x': -5.636363636363637, 'o': -6.0}\n",
      "Current status of board:\n",
      "-------------\n",
      "| o | o | x |\n",
      "-------------\n",
      "| x | x |   |\n",
      "-------------\n",
      "| x |   | o |\n",
      "-------------\n",
      "Score board: {'x': 12, 'o': 15, ' ': 4}\n"
     ]
    },
    {
     "name": "stderr",
     "output_type": "stream",
     "text": [
      "2019-03-07 01:19:10,263 - tateti.agent.base - INFO - GAME OVER! Winner: o\n",
      "2019-03-07 01:19:10,443 - tateti.agent.base - INFO - GAME OVER! Winner: x\n",
      "2019-03-07 01:19:10,815 - tateti.agent.base - INFO - GAME OVER! Winner: x\n",
      "2019-03-07 01:19:11,166 - tateti.agent.base - INFO - GAME OVER! Winner: None\n",
      "2019-03-07 01:19:11,253 - tateti.agent.base - INFO - GAME OVER! Winner: x\n",
      "2019-03-07 01:19:11,373 - tateti.agent.base - INFO - GAME OVER! Winner: x\n",
      "2019-03-07 01:19:11,523 - tateti.agent.base - INFO - GAME OVER! Winner: o\n",
      "2019-03-07 01:19:11,894 - tateti.agent.base - INFO - GAME OVER! Winner: None\n",
      "2019-03-07 01:19:11,995 - tateti.agent.base - INFO - GAME OVER! Winner: o\n",
      "2019-03-07 01:19:12,300 - tateti.agent.base - INFO - GAME OVER! Winner: o\n"
     ]
    },
    {
     "name": "stdout",
     "output_type": "stream",
     "text": [
      "Episode:40, avg reward (last 10): {'x': -3.4545454545454546, 'o': -4.181818181818182}\n",
      "Current status of board:\n",
      "-------------\n",
      "| o | o | x |\n",
      "-------------\n",
      "| o | x | x |\n",
      "-------------\n",
      "| o | x | o |\n",
      "-------------\n",
      "Score board: {'x': 16, 'o': 19, ' ': 6}\n"
     ]
    },
    {
     "name": "stderr",
     "output_type": "stream",
     "text": [
      "2019-03-07 01:19:12,833 - tateti.agent.base - INFO - GAME OVER! Winner: o\n",
      "2019-03-07 01:19:13,014 - tateti.agent.base - INFO - GAME OVER! Winner: x\n",
      "2019-03-07 01:19:13,245 - tateti.agent.base - INFO - GAME OVER! Winner: x\n",
      "2019-03-07 01:19:13,449 - tateti.agent.base - INFO - GAME OVER! Winner: x\n",
      "2019-03-07 01:19:13,591 - tateti.agent.base - INFO - GAME OVER! Winner: x\n",
      "2019-03-07 01:19:13,686 - tateti.agent.base - INFO - GAME OVER! Winner: o\n",
      "2019-03-07 01:19:13,876 - tateti.agent.base - INFO - GAME OVER! Winner: x\n",
      "2019-03-07 01:19:14,125 - tateti.agent.base - INFO - GAME OVER! Winner: o\n",
      "2019-03-07 01:19:14,313 - tateti.agent.base - INFO - GAME OVER! Winner: o\n",
      "2019-03-07 01:19:14,895 - tateti.agent.base - INFO - GAME OVER! Winner: None\n"
     ]
    },
    {
     "name": "stdout",
     "output_type": "stream",
     "text": [
      "Episode:50, avg reward (last 10): {'x': -5.181818181818182, 'o': -3.909090909090909}\n",
      "Current status of board:\n",
      "-------------\n",
      "| o | x | o |\n",
      "-------------\n",
      "| x | o | x |\n",
      "-------------\n",
      "| x | o | x |\n",
      "-------------\n",
      "Score board: {'x': 21, 'o': 23, ' ': 7}\n"
     ]
    },
    {
     "name": "stderr",
     "output_type": "stream",
     "text": [
      "2019-03-07 01:19:15,344 - tateti.agent.base - INFO - GAME OVER! Winner: o\n",
      "2019-03-07 01:19:15,455 - tateti.agent.base - INFO - GAME OVER! Winner: o\n",
      "2019-03-07 01:19:15,580 - tateti.agent.base - INFO - GAME OVER! Winner: o\n",
      "2019-03-07 01:19:15,968 - tateti.agent.base - INFO - GAME OVER! Winner: o\n",
      "2019-03-07 01:19:16,260 - tateti.agent.base - INFO - GAME OVER! Winner: o\n",
      "2019-03-07 01:19:16,447 - tateti.agent.base - INFO - GAME OVER! Winner: o\n",
      "2019-03-07 01:19:16,671 - tateti.agent.base - INFO - GAME OVER! Winner: o\n",
      "2019-03-07 01:19:16,859 - tateti.agent.base - INFO - GAME OVER! Winner: None\n",
      "2019-03-07 01:19:18,204 - tateti.agent.base - INFO - GAME OVER! Winner: o\n",
      "2019-03-07 01:19:18,697 - tateti.agent.base - INFO - GAME OVER! Winner: x\n",
      "2019-03-07 01:19:18,812 - tateti.agent.base - INFO - GAME OVER! Winner: x\n"
     ]
    },
    {
     "name": "stdout",
     "output_type": "stream",
     "text": [
      "Episode:60, avg reward (last 10): {'x': -5.909090909090909, 'o': -11.0}\n",
      "Current status of board:\n",
      "-------------\n",
      "| o |   | o |\n",
      "-------------\n",
      "| x | x | x |\n",
      "-------------\n",
      "| o | x | o |\n",
      "-------------\n",
      "Score board: {'x': 22, 'o': 31, ' ': 8}\n"
     ]
    },
    {
     "name": "stderr",
     "output_type": "stream",
     "text": [
      "2019-03-07 01:19:19,142 - tateti.agent.base - INFO - GAME OVER! Winner: o\n",
      "2019-03-07 01:19:19,481 - tateti.agent.base - INFO - GAME OVER! Winner: x\n",
      "2019-03-07 01:19:19,874 - tateti.agent.base - INFO - GAME OVER! Winner: x\n",
      "2019-03-07 01:19:20,098 - tateti.agent.base - INFO - GAME OVER! Winner: x\n",
      "2019-03-07 01:19:20,339 - tateti.agent.base - INFO - GAME OVER! Winner: o\n",
      "2019-03-07 01:19:20,627 - tateti.agent.base - INFO - GAME OVER! Winner: x\n",
      "2019-03-07 01:19:20,801 - tateti.agent.base - INFO - GAME OVER! Winner: x\n",
      "2019-03-07 01:19:21,392 - tateti.agent.base - INFO - GAME OVER! Winner: x\n",
      "2019-03-07 01:19:21,523 - tateti.agent.base - INFO - GAME OVER! Winner: x\n"
     ]
    },
    {
     "name": "stdout",
     "output_type": "stream",
     "text": [
      "Episode:70, avg reward (last 10): {'x': -5.090909090909091, 'o': -5.7272727272727275}\n",
      "Current status of board:\n",
      "-------------\n",
      "| o | o |   |\n",
      "-------------\n",
      "|   | o | x |\n",
      "-------------\n",
      "| x | x | x |\n",
      "-------------\n",
      "Score board: {'x': 30, 'o': 33, ' ': 8}\n"
     ]
    },
    {
     "name": "stderr",
     "output_type": "stream",
     "text": [
      "2019-03-07 01:19:21,964 - tateti.agent.base - INFO - GAME OVER! Winner: o\n",
      "2019-03-07 01:19:22,264 - tateti.agent.base - INFO - GAME OVER! Winner: None\n",
      "2019-03-07 01:19:22,486 - tateti.agent.base - INFO - GAME OVER! Winner: o\n",
      "2019-03-07 01:19:22,629 - tateti.agent.base - INFO - GAME OVER! Winner: o\n",
      "2019-03-07 01:19:22,893 - tateti.agent.base - INFO - GAME OVER! Winner: x\n",
      "2019-03-07 01:19:23,137 - tateti.agent.base - INFO - GAME OVER! Winner: x\n",
      "2019-03-07 01:19:23,732 - tateti.agent.base - INFO - GAME OVER! Winner: x\n",
      "2019-03-07 01:19:24,046 - tateti.agent.base - INFO - GAME OVER! Winner: o\n",
      "2019-03-07 01:19:24,226 - tateti.agent.base - INFO - GAME OVER! Winner: o\n",
      "2019-03-07 01:19:24,420 - tateti.agent.base - INFO - GAME OVER! Winner: o\n",
      "2019-03-07 01:19:24,615 - tateti.agent.base - INFO - GAME OVER! Winner: x\n"
     ]
    },
    {
     "name": "stdout",
     "output_type": "stream",
     "text": [
      "Episode:80, avg reward (last 10): {'x': -5.090909090909091, 'o': -5.454545454545454}\n",
      "Current status of board:\n",
      "-------------\n",
      "|   | o | x |\n",
      "-------------\n",
      "| x | o |   |\n",
      "-------------\n",
      "| x | o | o |\n",
      "-------------\n",
      "Score board: {'x': 33, 'o': 39, ' ': 9}\n"
     ]
    },
    {
     "name": "stderr",
     "output_type": "stream",
     "text": [
      "2019-03-07 01:19:24,743 - tateti.agent.base - INFO - GAME OVER! Winner: o\n",
      "2019-03-07 01:19:25,774 - tateti.agent.base - INFO - GAME OVER! Winner: o\n",
      "2019-03-07 01:19:26,372 - tateti.agent.base - INFO - GAME OVER! Winner: o\n",
      "2019-03-07 01:19:26,660 - tateti.agent.base - INFO - GAME OVER! Winner: x\n",
      "2019-03-07 01:19:26,867 - tateti.agent.base - INFO - GAME OVER! Winner: x\n",
      "2019-03-07 01:19:27,184 - tateti.agent.base - INFO - GAME OVER! Winner: x\n",
      "2019-03-07 01:19:27,329 - tateti.agent.base - INFO - GAME OVER! Winner: x\n",
      "2019-03-07 01:19:27,557 - tateti.agent.base - INFO - GAME OVER! Winner: o\n",
      "2019-03-07 01:19:27,725 - tateti.agent.base - INFO - GAME OVER! Winner: o\n",
      "2019-03-07 01:19:27,830 - tateti.agent.base - INFO - GAME OVER! Winner: x\n"
     ]
    },
    {
     "name": "stdout",
     "output_type": "stream",
     "text": [
      "Episode:90, avg reward (last 10): {'x': -3.5454545454545454, 'o': -7.636363636363637}\n",
      "Current status of board:\n",
      "-------------\n",
      "| o | x | x |\n",
      "-------------\n",
      "|   | o | x |\n",
      "-------------\n",
      "| x | o | o |\n",
      "-------------\n",
      "Score board: {'x': 38, 'o': 44, ' ': 9}\n"
     ]
    },
    {
     "name": "stderr",
     "output_type": "stream",
     "text": [
      "2019-03-07 01:19:28,364 - tateti.agent.base - INFO - GAME OVER! Winner: x\n",
      "2019-03-07 01:19:28,596 - tateti.agent.base - INFO - GAME OVER! Winner: o\n",
      "2019-03-07 01:19:28,783 - tateti.agent.base - INFO - GAME OVER! Winner: x\n",
      "2019-03-07 01:19:28,960 - tateti.agent.base - INFO - GAME OVER! Winner: o\n",
      "2019-03-07 01:19:29,321 - tateti.agent.base - INFO - GAME OVER! Winner: None\n",
      "2019-03-07 01:19:29,615 - tateti.agent.base - INFO - GAME OVER! Winner: o\n",
      "2019-03-07 01:19:29,750 - tateti.agent.base - INFO - GAME OVER! Winner: x\n",
      "2019-03-07 01:19:29,848 - tateti.agent.base - INFO - GAME OVER! Winner: o\n",
      "2019-03-07 01:19:30,198 - tateti.agent.base - INFO - GAME OVER! Winner: o\n"
     ]
    },
    {
     "name": "stdout",
     "output_type": "stream",
     "text": [
      "Episode:100, avg reward (last 10): {'x': -3.4545454545454546, 'o': -3.272727272727273}\n",
      "Current status of board:\n",
      "-------------\n",
      "| o | o | o |\n",
      "-------------\n",
      "| x | x | o |\n",
      "-------------\n",
      "| x | o | x |\n",
      "-------------\n",
      "Score board: {'x': 42, 'o': 49, ' ': 10}\n"
     ]
    },
    {
     "name": "stderr",
     "output_type": "stream",
     "text": [
      "2019-03-07 01:19:30,521 - tateti.agent.base - INFO - GAME OVER! Winner: x\n",
      "2019-03-07 01:19:30,683 - tateti.agent.base - INFO - GAME OVER! Winner: o\n",
      "2019-03-07 01:19:30,862 - tateti.agent.base - INFO - GAME OVER! Winner: o\n",
      "2019-03-07 01:19:31,245 - tateti.agent.base - INFO - GAME OVER! Winner: x\n",
      "2019-03-07 01:19:31,574 - tateti.agent.base - INFO - GAME OVER! Winner: o\n",
      "2019-03-07 01:19:31,785 - tateti.agent.base - INFO - GAME OVER! Winner: x\n",
      "2019-03-07 01:19:32,255 - tateti.agent.base - INFO - GAME OVER! Winner: None\n",
      "2019-03-07 01:19:32,570 - tateti.agent.base - INFO - GAME OVER! Winner: x\n",
      "2019-03-07 01:19:32,764 - tateti.agent.base - INFO - GAME OVER! Winner: o\n",
      "2019-03-07 01:19:32,997 - tateti.agent.base - INFO - GAME OVER! Winner: x\n"
     ]
    },
    {
     "name": "stdout",
     "output_type": "stream",
     "text": [
      "Episode:110, avg reward (last 10): {'x': -4.909090909090909, 'o': -3.6363636363636362}\n",
      "Current status of board:\n",
      "-------------\n",
      "| x | x | x |\n",
      "-------------\n",
      "| o |   |   |\n",
      "-------------\n",
      "| x | o | o |\n",
      "-------------\n",
      "Score board: {'x': 47, 'o': 53, ' ': 11}\n"
     ]
    },
    {
     "name": "stderr",
     "output_type": "stream",
     "text": [
      "2019-03-07 01:19:33,229 - tateti.agent.base - INFO - GAME OVER! Winner: o\n",
      "2019-03-07 01:19:33,439 - tateti.agent.base - INFO - GAME OVER! Winner: o\n",
      "2019-03-07 01:19:33,808 - tateti.agent.base - INFO - GAME OVER! Winner: o\n",
      "2019-03-07 01:19:34,091 - tateti.agent.base - INFO - GAME OVER! Winner: None\n",
      "2019-03-07 01:19:34,292 - tateti.agent.base - INFO - GAME OVER! Winner: o\n",
      "2019-03-07 01:19:34,476 - tateti.agent.base - INFO - GAME OVER! Winner: o\n",
      "2019-03-07 01:19:34,742 - tateti.agent.base - INFO - GAME OVER! Winner: x\n",
      "2019-03-07 01:19:35,205 - tateti.agent.base - INFO - GAME OVER! Winner: x\n",
      "2019-03-07 01:19:35,322 - tateti.agent.base - INFO - GAME OVER! Winner: o\n",
      "2019-03-07 01:19:35,459 - tateti.agent.base - INFO - GAME OVER! Winner: x\n"
     ]
    },
    {
     "name": "stdout",
     "output_type": "stream",
     "text": [
      "Episode:120, avg reward (last 10): {'x': -3.272727272727273, 'o': -3.6363636363636362}\n",
      "Current status of board:\n",
      "-------------\n",
      "| o |   | x |\n",
      "-------------\n",
      "| o |   | o |\n",
      "-------------\n",
      "| x | x | x |\n",
      "-------------\n",
      "Score board: {'x': 50, 'o': 59, ' ': 12}\n"
     ]
    },
    {
     "name": "stderr",
     "output_type": "stream",
     "text": [
      "2019-03-07 01:19:35,687 - tateti.agent.base - INFO - GAME OVER! Winner: o\n",
      "2019-03-07 01:19:35,937 - tateti.agent.base - INFO - GAME OVER! Winner: o\n",
      "2019-03-07 01:19:36,262 - tateti.agent.base - INFO - GAME OVER! Winner: x\n",
      "2019-03-07 01:19:36,665 - tateti.agent.base - INFO - GAME OVER! Winner: x\n",
      "2019-03-07 01:19:37,022 - tateti.agent.base - INFO - GAME OVER! Winner: o\n",
      "2019-03-07 01:19:37,201 - tateti.agent.base - INFO - GAME OVER! Winner: x\n",
      "2019-03-07 01:19:37,416 - tateti.agent.base - INFO - GAME OVER! Winner: x\n",
      "2019-03-07 01:19:37,739 - tateti.agent.base - INFO - GAME OVER! Winner: x\n",
      "2019-03-07 01:19:37,843 - tateti.agent.base - INFO - GAME OVER! Winner: o\n",
      "2019-03-07 01:19:38,467 - tateti.agent.base - INFO - GAME OVER! Winner: None\n",
      "2019-03-07 01:19:38,600 - tateti.agent.base - INFO - GAME OVER! Winner: x\n"
     ]
    },
    {
     "name": "stdout",
     "output_type": "stream",
     "text": [
      "Episode:130, avg reward (last 10): {'x': -5.090909090909091, 'o': -4.7272727272727275}\n",
      "Current status of board:\n",
      "-------------\n",
      "| x | o | x |\n",
      "-------------\n",
      "| o | x | o |\n",
      "-------------\n",
      "| o | x | o |\n",
      "-------------\n",
      "Score board: {'x': 55, 'o': 63, ' ': 13}\n"
     ]
    },
    {
     "name": "stderr",
     "output_type": "stream",
     "text": [
      "2019-03-07 01:19:38,706 - tateti.agent.base - INFO - GAME OVER! Winner: o\n",
      "2019-03-07 01:19:38,828 - tateti.agent.base - INFO - GAME OVER! Winner: x\n",
      "2019-03-07 01:19:39,195 - tateti.agent.base - INFO - GAME OVER! Winner: o\n",
      "2019-03-07 01:19:39,920 - tateti.agent.base - INFO - GAME OVER! Winner: x\n",
      "2019-03-07 01:19:40,149 - tateti.agent.base - INFO - GAME OVER! Winner: o\n",
      "2019-03-07 01:19:40,252 - tateti.agent.base - INFO - GAME OVER! Winner: x\n",
      "2019-03-07 01:19:40,470 - tateti.agent.base - INFO - GAME OVER! Winner: x\n",
      "2019-03-07 01:19:40,806 - tateti.agent.base - INFO - GAME OVER! Winner: o\n",
      "2019-03-07 01:19:40,927 - tateti.agent.base - INFO - GAME OVER! Winner: x\n"
     ]
    },
    {
     "name": "stdout",
     "output_type": "stream",
     "text": [
      "Episode:140, avg reward (last 10): {'x': -4.909090909090909, 'o': -5.0}\n",
      "Current status of board:\n",
      "-------------\n",
      "| x | o | o |\n",
      "-------------\n",
      "| x |   |   |\n",
      "-------------\n",
      "| x |   |   |\n",
      "-------------\n",
      "Score board: {'x': 61, 'o': 67, ' ': 13}\n"
     ]
    },
    {
     "name": "stderr",
     "output_type": "stream",
     "text": [
      "2019-03-07 01:19:41,132 - tateti.agent.base - INFO - GAME OVER! Winner: o\n",
      "2019-03-07 01:19:41,795 - tateti.agent.base - INFO - GAME OVER! Winner: o\n",
      "2019-03-07 01:19:42,016 - tateti.agent.base - INFO - GAME OVER! Winner: o\n",
      "2019-03-07 01:19:42,794 - tateti.agent.base - INFO - GAME OVER! Winner: None\n",
      "2019-03-07 01:19:42,932 - tateti.agent.base - INFO - GAME OVER! Winner: x\n",
      "2019-03-07 01:19:43,037 - tateti.agent.base - INFO - GAME OVER! Winner: x\n",
      "2019-03-07 01:19:43,504 - tateti.agent.base - INFO - GAME OVER! Winner: None\n",
      "2019-03-07 01:19:43,713 - tateti.agent.base - INFO - GAME OVER! Winner: x\n",
      "2019-03-07 01:19:43,883 - tateti.agent.base - INFO - GAME OVER! Winner: o\n",
      "2019-03-07 01:19:44,484 - tateti.agent.base - INFO - GAME OVER! Winner: x\n",
      "2019-03-07 01:19:44,623 - tateti.agent.base - INFO - GAME OVER! Winner: o\n"
     ]
    },
    {
     "name": "stdout",
     "output_type": "stream",
     "text": [
      "Episode:150, avg reward (last 10): {'x': -5.818181818181818, 'o': -6.181818181818182}\n",
      "Current status of board:\n",
      "-------------\n",
      "| o | o | x |\n",
      "-------------\n",
      "| x | x | x |\n",
      "-------------\n",
      "| o | x | o |\n",
      "-------------\n",
      "Score board: {'x': 65, 'o': 71, ' ': 15}\n"
     ]
    },
    {
     "name": "stderr",
     "output_type": "stream",
     "text": [
      "2019-03-07 01:19:44,875 - tateti.agent.base - INFO - GAME OVER! Winner: None\n",
      "2019-03-07 01:19:45,356 - tateti.agent.base - INFO - GAME OVER! Winner: None\n",
      "2019-03-07 01:19:46,089 - tateti.agent.base - INFO - GAME OVER! Winner: x\n",
      "2019-03-07 01:19:46,475 - tateti.agent.base - INFO - GAME OVER! Winner: None\n",
      "2019-03-07 01:19:47,043 - tateti.agent.base - INFO - GAME OVER! Winner: None\n",
      "2019-03-07 01:19:47,240 - tateti.agent.base - INFO - GAME OVER! Winner: x\n",
      "2019-03-07 01:19:47,866 - tateti.agent.base - INFO - GAME OVER! Winner: x\n",
      "2019-03-07 01:19:48,016 - tateti.agent.base - INFO - GAME OVER! Winner: x\n",
      "2019-03-07 01:19:48,148 - tateti.agent.base - INFO - GAME OVER! Winner: x\n",
      "2019-03-07 01:19:48,264 - tateti.agent.base - INFO - GAME OVER! Winner: o\n"
     ]
    },
    {
     "name": "stdout",
     "output_type": "stream",
     "text": [
      "Episode:160, avg reward (last 10): {'x': -8.0, 'o': -6.181818181818182}\n",
      "Current status of board:\n",
      "-------------\n",
      "| o |   |   |\n",
      "-------------\n",
      "| x | x | x |\n",
      "-------------\n",
      "| o | o |   |\n",
      "-------------\n",
      "Score board: {'x': 70, 'o': 72, ' ': 19}\n"
     ]
    },
    {
     "name": "stderr",
     "output_type": "stream",
     "text": [
      "2019-03-07 01:19:48,372 - tateti.agent.base - INFO - GAME OVER! Winner: o\n",
      "2019-03-07 01:19:48,568 - tateti.agent.base - INFO - GAME OVER! Winner: x\n",
      "2019-03-07 01:19:48,811 - tateti.agent.base - INFO - GAME OVER! Winner: x\n",
      "2019-03-07 01:19:49,042 - tateti.agent.base - INFO - GAME OVER! Winner: x\n",
      "2019-03-07 01:19:49,270 - tateti.agent.base - INFO - GAME OVER! Winner: x\n",
      "2019-03-07 01:19:49,448 - tateti.agent.base - INFO - GAME OVER! Winner: x\n",
      "2019-03-07 01:19:49,658 - tateti.agent.base - INFO - GAME OVER! Winner: o\n",
      "2019-03-07 01:19:50,059 - tateti.agent.base - INFO - GAME OVER! Winner: x\n",
      "2019-03-07 01:19:50,179 - tateti.agent.base - INFO - GAME OVER! Winner: x\n",
      "2019-03-07 01:19:50,380 - tateti.agent.base - INFO - GAME OVER! Winner: x\n"
     ]
    },
    {
     "name": "stdout",
     "output_type": "stream",
     "text": [
      "Episode:170, avg reward (last 10): {'x': -3.1818181818181817, 'o': -1.1818181818181819}\n",
      "Current status of board:\n",
      "-------------\n",
      "|   |   | o |\n",
      "-------------\n",
      "| x | x | x |\n",
      "-------------\n",
      "|   |   | o |\n",
      "-------------\n",
      "Score board: {'x': 77, 'o': 75, ' ': 19}\n"
     ]
    },
    {
     "name": "stderr",
     "output_type": "stream",
     "text": [
      "2019-03-07 01:19:50,722 - tateti.agent.base - INFO - GAME OVER! Winner: x\n",
      "2019-03-07 01:19:50,952 - tateti.agent.base - INFO - GAME OVER! Winner: o\n",
      "2019-03-07 01:19:51,052 - tateti.agent.base - INFO - GAME OVER! Winner: x\n",
      "2019-03-07 01:19:51,232 - tateti.agent.base - INFO - GAME OVER! Winner: o\n",
      "2019-03-07 01:19:51,484 - tateti.agent.base - INFO - GAME OVER! Winner: o\n",
      "2019-03-07 01:19:51,973 - tateti.agent.base - INFO - GAME OVER! Winner: o\n",
      "2019-03-07 01:19:52,327 - tateti.agent.base - INFO - GAME OVER! Winner: x\n",
      "2019-03-07 01:19:52,503 - tateti.agent.base - INFO - GAME OVER! Winner: o\n",
      "2019-03-07 01:19:52,929 - tateti.agent.base - INFO - GAME OVER! Winner: x\n"
     ]
    },
    {
     "name": "stdout",
     "output_type": "stream",
     "text": [
      "Episode:180, avg reward (last 10): {'x': -4.181818181818182, 'o': -4.2727272727272725}\n",
      "Current status of board:\n",
      "-------------\n",
      "| x | o | o |\n",
      "-------------\n",
      "| x | x | x |\n",
      "-------------\n",
      "| o | o | x |\n",
      "-------------\n",
      "Score board: {'x': 82, 'o': 80, ' ': 19}\n"
     ]
    },
    {
     "name": "stderr",
     "output_type": "stream",
     "text": [
      "2019-03-07 01:19:53,255 - tateti.agent.base - INFO - GAME OVER! Winner: None\n",
      "2019-03-07 01:19:53,548 - tateti.agent.base - INFO - GAME OVER! Winner: x\n",
      "2019-03-07 01:19:53,768 - tateti.agent.base - INFO - GAME OVER! Winner: x\n",
      "2019-03-07 01:19:54,004 - tateti.agent.base - INFO - GAME OVER! Winner: o\n",
      "2019-03-07 01:19:54,370 - tateti.agent.base - INFO - GAME OVER! Winner: None\n",
      "2019-03-07 01:19:54,783 - tateti.agent.base - INFO - GAME OVER! Winner: o\n",
      "2019-03-07 01:19:54,916 - tateti.agent.base - INFO - GAME OVER! Winner: o\n",
      "2019-03-07 01:19:55,080 - tateti.agent.base - INFO - GAME OVER! Winner: x\n",
      "2019-03-07 01:19:55,371 - tateti.agent.base - INFO - GAME OVER! Winner: None\n",
      "2019-03-07 01:19:55,942 - tateti.agent.base - INFO - GAME OVER! Winner: x\n",
      "2019-03-07 01:19:56,075 - tateti.agent.base - INFO - GAME OVER! Winner: o\n"
     ]
    },
    {
     "name": "stdout",
     "output_type": "stream",
     "text": [
      "Episode:190, avg reward (last 10): {'x': -5.090909090909091, 'o': -5.363636363636363}\n",
      "Current status of board:\n",
      "-------------\n",
      "| x | o | x |\n",
      "-------------\n",
      "| o | x | o |\n",
      "-------------\n",
      "| o | x | x |\n",
      "-------------\n",
      "Score board: {'x': 86, 'o': 83, ' ': 22}\n"
     ]
    },
    {
     "name": "stderr",
     "output_type": "stream",
     "text": [
      "2019-03-07 01:19:56,390 - tateti.agent.base - INFO - GAME OVER! Winner: x\n",
      "2019-03-07 01:19:56,602 - tateti.agent.base - INFO - GAME OVER! Winner: x\n",
      "2019-03-07 01:19:56,903 - tateti.agent.base - INFO - GAME OVER! Winner: o\n",
      "2019-03-07 01:19:57,023 - tateti.agent.base - INFO - GAME OVER! Winner: o\n",
      "2019-03-07 01:19:57,284 - tateti.agent.base - INFO - GAME OVER! Winner: o\n",
      "2019-03-07 01:19:57,381 - tateti.agent.base - INFO - GAME OVER! Winner: x\n",
      "2019-03-07 01:19:57,689 - tateti.agent.base - INFO - GAME OVER! Winner: None\n",
      "2019-03-07 01:19:58,432 - tateti.agent.base - INFO - GAME OVER! Winner: None\n"
     ]
    }
   ],
   "source": [
    "for n in range(N):\n",
    "    total_reward, steps, is_over = play_one(agent_x, agent_o, env)\n",
    "\n",
    "    for sym in total_reward:\n",
    "        total_rewards[sym][n] = total_reward[sym]\n",
    "\n",
    "    if n % 10 == 0:\n",
    "        avg_rew = {Environment.sym_repr[s]: v[max(0, n-10):(n+1)].mean() for (s, v) in total_rewards.items()}\n",
    "        print(\"Episode:%i, avg reward (last 10): %s\" % (n, avg_rew))\n",
    "        print(\"Current status of board:\")\n",
    "        env.draw_board(logger_func=print)\n",
    "        print(\"Score board: %s\" % str(env.score))\n",
    "\n",
    "    seed = random.randint(0, 1000)\n",
    "\n",
    "    env.reset()"
   ]
  },
  {
   "cell_type": "code",
   "execution_count": 6,
   "metadata": {},
   "outputs": [
    {
     "data": {
      "image/png": "[encoded data removed]",
      "text/plain": [
       "<Figure size 432x288 with 1 Axes>"
      ]
     },
     "metadata": {
      "needs_background": "light"
     },
     "output_type": "display_data"
    },
    {
     "data": {
      "image/png": "[encoded data removed]",
      "text/plain": [
       "<Figure size 432x288 with 1 Axes>"
      ]
     },
     "metadata": {
      "needs_background": "light"
     },
     "output_type": "display_data"
    },
    {
     "data": {
      "image/png": "[encoded data removed]",
      "text/plain": [
       "<Figure size 432x288 with 1 Axes>"
      ]
     },
     "metadata": {
      "needs_background": "light"
     },
     "output_type": "display_data"
    },
    {
     "data": {
      "image/png": "[encoded data removed]",
      "text/plain": [
       "<Figure size 432x288 with 1 Axes>"
      ]
     },
     "metadata": {
      "needs_background": "light"
     },
     "output_type": "display_data"
    },
    {
     "name": "stdout",
     "output_type": "stream",
     "text": [
      "Final score board:\n",
      "{'x': 89, 'o': 87, ' ': 24}\n"
     ]
    }
   ],
   "source": [
    "plot(y=total_rewards[Environment.SYMBOL_X], title=\"Rewards for Agent with symbol='x'\", show=True)\n",
    "plot(y=total_rewards[Environment.SYMBOL_O], title=\"Rewards for Agent with symbol='o'\", show=True)\n",
    "\n",
    "plot_moving_avg(total_rewards[Environment.SYMBOL_X], title=\"Total rewards per episode for Agent 'x' - moving average\")\n",
    "plot_moving_avg(total_rewards[Environment.SYMBOL_O], title=\"Total rewards per episode for Agent 'o' - moving average\")\n",
    "\n",
    "print(\"Final score board:\")\n",
    "print(env.score)"
   ]
  },
  {
   "cell_type": "markdown",
   "metadata": {},
   "source": [
    "### Save best model on disk"
   ]
  },
  {
   "cell_type": "code",
   "execution_count": 9,
   "metadata": {},
   "outputs": [
    {
     "name": "stdout",
     "output_type": "stream",
     "text": [
      "Saving model on /data/tateti_model.pkl...\n"
     ]
    }
   ],
   "source": [
    "# Get best model from score board\n",
    "\n",
    "# Remove draws from score\n",
    "score = {k: v for (k, v) in env.score.items() if k != Environment.sym_repr[Environment.SYMBOL_EMPTY]}\n",
    "\n",
    "# Get best agent based on the max score recorded\n",
    "best_sym = max(score.items(), key=lambda x: x[1])\n",
    "best_agent = agent_x if best_sym == Environment.sym_repr[Environment.SYMBOL_X] else agent_o\n",
    "\n",
    "print(\"Saving model on %s...\" % path_to_model)\n",
    "best_agent.save(path_to_model)\n"
   ]
  }
 ],
 "metadata": {
  "@webio": {
   "lastCommId": "0d0ecd43dbb14caba0db4a56e926c7fb",
   "lastKernelId": "fe46cfcd-767b-4406-8731-2be4f57ccf3b"
  },
  "kernelspec": {
   "display_name": "Python 3",
   "language": "python",
   "name": "python3"
  },
  "language_info": {
   "codemirror_mode": {
    "name": "ipython",
    "version": 3
   },
   "file_extension": ".py",
   "mimetype": "text/x-python",
   "name": "python",
   "nbconvert_exporter": "python",
   "pygments_lexer": "ipython3",
   "version": "3.6.7"
  }
 },
 "nbformat": 4,
 "nbformat_minor": 2
}
